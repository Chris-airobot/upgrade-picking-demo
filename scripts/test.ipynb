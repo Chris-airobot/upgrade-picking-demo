{
 "cells": [
  {
   "cell_type": "code",
   "execution_count": 1,
   "metadata": {},
   "outputs": [],
   "source": [
    "import roboticstoolbox as rtb\n",
    "import spatialmath as sm\n",
    "import numpy as np\n",
    "from swift import Swift\n",
    "\n",
    "\n",
    "# Make and instance of the Swift simulator and open it\n",
    "env = Swift()\n",
    "env.launch(realtime=True)\n",
    "\n",
    "# Make a panda model and set its joint angles to the ready joint configuration\n",
    "panda = rtb.models.Panda()\n",
    "panda.q = panda.qr\n",
    "\n",
    "# Set a desired and effector pose an an offset from the current end-effector pose\n",
    "Tep = panda.fkine(panda.q) * sm.SE3.Tx(0.2) * sm.SE3.Ty(0.2) * sm.SE3.Tz(0.45)\n",
    "\n",
    "# Add the robot to the simulator\n",
    "env.add(panda)\n",
    "\n",
    "# Simulate the robot while it has not arrived at the goal\n",
    "arrived = False\n",
    "while not arrived:\n",
    "\n",
    "    # Work out the required end-effector velocity to go towards the goal\n",
    "    v, arrived = rtb.p_servo(panda.fkine(panda.q), Tep, 1)\n",
    "    \n",
    "    # Set the Panda's joint velocities\n",
    "    panda.qd = np.linalg.pinv(panda.jacobe(panda.q)) @ v\n",
    "    \n",
    "    # Step the simulator by 50 milliseconds\n",
    "    env.step(0.05)"
   ]
  },
  {
   "cell_type": "code",
   "execution_count": 67,
   "metadata": {},
   "outputs": [],
   "source": [
    "from roboticstoolbox import *\n",
    "import numpy as np\n",
    "\n",
    "class GEN3_LITE(ERobot):\n",
    "\n",
    "    def __init__(self):\n",
    "\n",
    "        # links, name, urdf_string, urdf_filepath = self.URDF_read(\"/home/riot/kinova_gen3_lite/src/ggcnn/data/xacro/robots/GEN3-LITE.urdf\")\n",
    "        links, name, urdf_string, urdf_filepath = self.URDF_read(\"/home/riot/kinova_gen3_lite/src/ros_kortex/kortex_description/robots/gen3_lite_gen3_lite_2f.xacro\")\n",
    "    \n",
    "        super().__init__(\n",
    "            links,\n",
    "            name='gen3-lite',\n",
    "            urdf_string=urdf_string,\n",
    "            urdf_filepath=urdf_filepath,\n",
    "            manufacturer=\"Kinova\",\n",
    "            gripper_links=links[7]\n",
    "        )\n",
    "\n",
    "        self.addconfiguration(\n",
    "            \"qr\", np.array([0, 0, 0, 0, 0, 0])\n",
    "        )\n",
    "\n"
   ]
  },
  {
   "cell_type": "code",
   "execution_count": 68,
   "metadata": {},
   "outputs": [
    {
     "name": "stdout",
     "output_type": "stream",
     "text": [
      "ERobot: gen3-lite (by Kinova), 6 joints (RRRRRR), 1 gripper, dynamics, geometry, collision\n",
      "┌─────┬────────────────────┬───────┬──────────────────┬───────────────────────────────────────────────────┐\n",
      "│link │        link        │ joint │      parent      │                ETS: parent to link                │\n",
      "├─────┼────────────────────┼───────┼──────────────────┼───────────────────────────────────────────────────┤\n",
      "│   0\u001b[0m │ \u001b[38;5;4mbase_link\u001b[0m          │      \u001b[0m │ BASE\u001b[0m             │ SE3()\u001b[0m                                             │\n",
      "│   1\u001b[0m │ shoulder_link\u001b[0m      │     0\u001b[0m │ base_link\u001b[0m        │ SE3(0, 0, 0.1283) ⊕ Rz(q0)\u001b[0m                        │\n",
      "│   2\u001b[0m │ arm_link\u001b[0m           │     1\u001b[0m │ shoulder_link\u001b[0m    │ SE3(0, -0.03, 0.115; 90°, -0°, 0°) ⊕ Rz(q1)\u001b[0m       │\n",
      "│   3\u001b[0m │ forearm_link\u001b[0m       │     2\u001b[0m │ arm_link\u001b[0m         │ SE3(0, 0.28, 0; 180°, -0°, 0°) ⊕ Rz(q2)\u001b[0m           │\n",
      "│   4\u001b[0m │ lower_wrist_link\u001b[0m   │     3\u001b[0m │ forearm_link\u001b[0m     │ SE3(0, -0.14, 0.02; 90°, -0°, 0°) ⊕ Rz(q3)\u001b[0m        │\n",
      "│   5\u001b[0m │ upper_wrist_link\u001b[0m   │     4\u001b[0m │ lower_wrist_link\u001b[0m │ SE3(0.0285, 0, 0.105; 180°, 90°, 180°) ⊕ Rz(q4)\u001b[0m   │\n",
      "│   6\u001b[0m │ @end_effector_link\u001b[0m │     5\u001b[0m │ upper_wrist_link\u001b[0m │ SE3(-0.105, 0, 0.0285; 180°, -90°, 180°) ⊕ Rz(q5)\u001b[0m │\n",
      "└─────┴────────────────────┴───────┴──────────────────┴───────────────────────────────────────────────────┘\n",
      "\n",
      "┌─────┬─────┬─────┬─────┬─────┬─────┬─────┐\n",
      "│name │ q0  │ q1  │ q2  │ q3  │ q4  │ q5  │\n",
      "├─────┼─────┼─────┼─────┼─────┼─────┼─────┤\n",
      "│  qr\u001b[0m │  0°\u001b[0m │  0°\u001b[0m │  0°\u001b[0m │  0°\u001b[0m │  0°\u001b[0m │  0°\u001b[0m │\n",
      "└─────┴─────┴─────┴─────┴─────┴─────┴─────┘\n",
      "\n"
     ]
    }
   ],
   "source": [
    "robot = GEN3_LITE()\n",
    "print(robot)"
   ]
  },
  {
   "cell_type": "code",
   "execution_count": 69,
   "metadata": {},
   "outputs": [
    {
     "data": {
      "text/plain": [
       "[Gripper(['Link([ET.SE3(T=array([[1., 0., 0., 0.],\\n       [0., 1., 0., 0.],\\n       [0., 0., 1., 0.],\\n       [0., 0., 0., 1.]]))], name = \"dummy_link\", parent=\"end_effector_link\")', 'Link([ET.SE3(T=array([[ 4.89658886e-12, -1.00000000e+00,  0.00000000e+00,\\n         0.00000000e+00],\\n       [ 1.00000000e+00,  4.89658886e-12,  0.00000000e+00,\\n         0.00000000e+00],\\n       [ 0.00000000e+00,  0.00000000e+00,  1.00000000e+00,\\n         1.30000000e-01],\\n       [ 0.00000000e+00,  0.00000000e+00,  0.00000000e+00,\\n         1.00000000e+00]]))], name = \"tool_frame\", parent=\"dummy_link\")', 'Link([ET.SE3(T=array([[1., 0., 0., 0.],\\n       [0., 1., 0., 0.],\\n       [0., 0., 1., 0.],\\n       [0., 0., 0., 1.]]))], name = \"gripper_base_link\", parent=\"dummy_link\", m=0.14, r=[4.03e-06, 1.08e-05, 0.0414], I=[0.000116, 0.000103, 9.71e-05, 1e-08, 4e-08, 0], Jm=0, B=0, Tc=[0, 0], G=0)', 'Link([ET.SE3(T=array([[-3.6732051e-06,  0.0000000e+00,  1.0000000e+00,  0.0000000e+00],\\n       [ 0.0000000e+00,  1.0000000e+00,  0.0000000e+00, -3.0501000e-02],\\n       [-1.0000000e+00,  0.0000000e+00, -3.6732051e-06,  7.0003000e-02],\\n       [ 0.0000000e+00,  0.0000000e+00,  0.0000000e+00,  1.0000000e+00]])), ET.Rz(jindex=0, qlim=array([-0.09,  0.96]))], name = \"right_finger_prox_link\", parent=\"gripper_base_link\", qlim=[-0.09, 0.96], m=0.0184, r=[0.0203, 0.00635, 6.99e-05], I=[2.29e-06, 4.56e-06, 4.77e-06, 1.43e-06, 0, 0], Jm=0, B=0, Tc=[0, 0], G=0)', 'Link([ET.SE3(T=array([[ 1.      ,  0.      ,  0.      , -0.045636],\\n       [ 0.      ,  1.      ,  0.      ,  0.020423],\\n       [ 0.      ,  0.      ,  1.      ,  0.      ],\\n       [ 0.      ,  0.      ,  0.      ,  1.      ]])), ET.Rz(jindex=1, qlim=array([-0.5 ,  0.21]))], name = \"right_finger_dist_link\", parent=\"right_finger_prox_link\", qlim=[-0.5, 0.21], m=0.0107, r=[0.0185, 0.00111, 0], I=[6.3e-07, 1.83e-06, 1.61e-06, 3.2e-07, 0, 0], Jm=0, B=0, Tc=[0, 0], G=0)', 'Link([ET.SE3(T=array([[-3.6732051e-06,  0.0000000e+00,  1.0000000e+00,  0.0000000e+00],\\n       [ 0.0000000e+00,  1.0000000e+00,  0.0000000e+00,  3.0500000e-02],\\n       [-1.0000000e+00,  0.0000000e+00, -3.6732051e-06,  7.0003000e-02],\\n       [ 0.0000000e+00,  0.0000000e+00,  0.0000000e+00,  1.0000000e+00]])), ET.Rz(jindex=2, qlim=array([-0.96,  0.09]))], name = \"left_finger_prox_link\", parent=\"gripper_base_link\", qlim=[-0.96, 0.09], m=0.0184, r=[0.0203, 0.00635, 6.99e-05], I=[2.29e-06, 4.56e-06, 4.77e-06, 1.43e-06, 0, 0], Jm=0, B=0, Tc=[0, 0], G=0)', 'Link([ET.SE3(T=array([[ 1.0000e+00,  0.0000e+00,  0.0000e+00, -4.5636e-02],\\n       [ 0.0000e+00,  1.0000e+00,  0.0000e+00, -2.0423e-02],\\n       [ 0.0000e+00,  0.0000e+00,  1.0000e+00,  6.9901e-05],\\n       [ 0.0000e+00,  0.0000e+00,  0.0000e+00,  1.0000e+00]])), ET.Rz(jindex=3, flip=True, qlim=array([-0.5 ,  0.21]))], name = \"left_finger_dist_link\", parent=\"left_finger_prox_link\", isflip=1, qlim=[-0.5, 0.21], m=0.0107, r=[-0.0185, 0.00111, 0], I=[6.3e-07, 1.83e-06, 1.61e-06, 3.2e-07, 0, 0], Jm=0, B=0, Tc=[0, 0], G=0)'], name=\"dummy_link\", tool=None)]"
      ]
     },
     "execution_count": 69,
     "metadata": {},
     "output_type": "execute_result"
    }
   ],
   "source": [
    "robot.grippers"
   ]
  },
  {
   "cell_type": "code",
   "execution_count": 70,
   "metadata": {},
   "outputs": [
    {
     "name": "stdout",
     "output_type": "stream",
     "text": [
      "┌──────────────────┬────────┬──────────────────────────────┬────────────────────────────────────────────────────────────────┬────┬────┬────────┬────┐\n",
      "│        j         │   m    │              r               │                               I                                │ Jm │ B  │   Tc   │ G  │\n",
      "├──────────────────┼────────┼──────────────────────────────┼────────────────────────────────────────────────────────────────┼────┼────┼────────┼────┤\n",
      "│        base_link\u001b[0m │  1.15\u001b[0m  │  0.00244,  0.000156,  0.0862\u001b[0m │  0.00336,  0.00331,  0.000772,  3.9e-07,  1.91e-06,  0.00011\u001b[0m   │  0\u001b[0m │  0\u001b[0m │  0,  0\u001b[0m │  0\u001b[0m │\n",
      "│    shoulder_link\u001b[0m │  0.96\u001b[0m  │  2.48e-05,  0.0221,  0.0994\u001b[0m  │  0.00166,  0.0014,  0.000895,  2e-08,  0.000349,  3.6e-07\u001b[0m      │  0\u001b[0m │  0\u001b[0m │  0,  0\u001b[0m │  0\u001b[0m │\n",
      "│         arm_link\u001b[0m │  1.18\u001b[0m  │  0.03,  0.212,  0.0453\u001b[0m       │  0.0115,  0.00103,  0.0113,  1e-06,  0.00141,  1.6e-07\u001b[0m         │  0\u001b[0m │  0\u001b[0m │  0,  0\u001b[0m │  0\u001b[0m │\n",
      "│     forearm_link\u001b[0m │  0.598\u001b[0m │  0.0302,  0.095,  0.00736\u001b[0m    │  0.00163,  0.000298,  0.00169,  7.11e-06,  9.59e-05,  1.54e-06\u001b[0m │  0\u001b[0m │  0\u001b[0m │  0,  0\u001b[0m │  0\u001b[0m │\n",
      "│ lower_wrist_link\u001b[0m │  0.527\u001b[0m │  0.00575,  0.01,  0.0872\u001b[0m     │  0.000691,  0.000785,  0.000341,  2.4e-07,  7.4e-07,  0.000165\u001b[0m │  0\u001b[0m │  0\u001b[0m │  0,  0\u001b[0m │  0\u001b[0m │\n",
      "│ upper_wrist_link\u001b[0m │  0.581\u001b[0m │  0.0806,  0.0098,  0.0187\u001b[0m    │  0.000213,  0.00106,  0.00108,  5.21e-06,  1.1e-07,  2.91e-06\u001b[0m  │  0\u001b[0m │  0\u001b[0m │  0,  0\u001b[0m │  0\u001b[0m │\n",
      "│end_effector_link\u001b[0m │  0\u001b[0m     │  0,  0,  0\u001b[0m                   │  0,  0,  0,  0,  0,  0\u001b[0m                                         │  0\u001b[0m │  0\u001b[0m │  0,  0\u001b[0m │  0\u001b[0m │\n",
      "└──────────────────┴────────┴──────────────────────────────┴────────────────────────────────────────────────────────────────┴────┴────┴────────┴────┘\n",
      "\n"
     ]
    }
   ],
   "source": [
    "robot.dynamics()"
   ]
  },
  {
   "cell_type": "code",
   "execution_count": 71,
   "metadata": {},
   "outputs": [
    {
     "data": {
      "text/plain": [
       "Swift backend, t = 0.05, scene:\n",
       "  gen3-lite"
      ]
     },
     "execution_count": 71,
     "metadata": {},
     "output_type": "execute_result"
    }
   ],
   "source": [
    "robot.plot(np.array([0, 0, 0, 0, 0, 0]))"
   ]
  },
  {
   "cell_type": "code",
   "execution_count": null,
   "metadata": {},
   "outputs": [],
   "source": []
  }
 ],
 "metadata": {
  "kernelspec": {
   "display_name": "ggcnn_env",
   "language": "python",
   "name": "python3"
  },
  "language_info": {
   "codemirror_mode": {
    "name": "ipython",
    "version": 3
   },
   "file_extension": ".py",
   "mimetype": "text/x-python",
   "name": "python",
   "nbconvert_exporter": "python",
   "pygments_lexer": "ipython3",
   "version": "3.8.10"
  }
 },
 "nbformat": 4,
 "nbformat_minor": 2
}
