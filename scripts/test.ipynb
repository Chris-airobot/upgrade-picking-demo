{
 "cells": [
  {
   "cell_type": "code",
   "execution_count": 3,
   "metadata": {},
   "outputs": [],
   "source": [
    "import torch\n",
    "import sys\n",
    "sys.path.insert(0, './models')\n",
    "# Option 1) Load the model directly.\n",
    "# (this may print warning based on the installed version of python)model = torch.load('ggcnn_weights_cornell/ggcnn_epoch_23_cornell')\n"
   ]
  },
  {
   "cell_type": "code",
   "execution_count": 6,
   "metadata": {},
   "outputs": [
    {
     "name": "stderr",
     "output_type": "stream",
     "text": [
      "/home/riot/kinova_gen3_lite/src/ggcnn_env/lib/python3.8/site-packages/torch/serialization.py:1113: SourceChangeWarning: source code of class 'torch.nn.modules.conv.Conv2d' has changed. you can retrieve the original source code by accessing the object's source attribute or set `torch.nn.Module.dump_patches = True` and use the patch tool to revert the changes.\n",
      "  warnings.warn(msg, SourceChangeWarning)\n",
      "/home/riot/kinova_gen3_lite/src/ggcnn_env/lib/python3.8/site-packages/torch/serialization.py:1113: SourceChangeWarning: source code of class 'torch.nn.modules.conv.ConvTranspose2d' has changed. you can retrieve the original source code by accessing the object's source attribute or set `torch.nn.Module.dump_patches = True` and use the patch tool to revert the changes.\n",
      "  warnings.warn(msg, SourceChangeWarning)\n"
     ]
    }
   ],
   "source": [
    "model = torch.load('/home/riot/kinova_gen3_lite/src/ggcnn/scripts/models/pretrained/ggcnn_epoch_23_cornell')"
   ]
  },
  {
   "cell_type": "code",
   "execution_count": 12,
   "metadata": {},
   "outputs": [],
   "source": [
    "import rospy\n",
    "from kortex_driver.msg import BaseCyclic_Feedback\n",
    "rospy.init_node('test')"
   ]
  },
  {
   "cell_type": "code",
   "execution_count": 13,
   "metadata": {},
   "outputs": [],
   "source": [
    "robot_state = rospy.wait_for_message(\"/kinova_gen3_lite/base_feedback\", BaseCyclic_Feedback, timeout=2)"
   ]
  },
  {
   "cell_type": "code",
   "execution_count": 15,
   "metadata": {},
   "outputs": [
    {
     "data": {
      "text/plain": [
       "kortex_driver.msg._BaseCyclic_Feedback.BaseCyclic_Feedback"
      ]
     },
     "execution_count": 15,
     "metadata": {},
     "output_type": "execute_result"
    }
   ],
   "source": [
    "type(robot_state)"
   ]
  },
  {
   "cell_type": "code",
   "execution_count": null,
   "metadata": {},
   "outputs": [],
   "source": [
    "for s in FrankaErrors.__slots__:\n",
    "    if getattr(msg.current_errors, s):\n",
    "        self.stop()\n",
    "        if not self.ROBOT_ERROR_DETECTED:\n",
    "            rospy.logerr('Robot Error Detected')\n",
    "        self.ROBOT_ERROR_DETECTED = True"
   ]
  },
  {
   "cell_type": "code",
   "execution_count": 45,
   "metadata": {},
   "outputs": [],
   "source": []
  },
  {
   "cell_type": "code",
   "execution_count": 47,
   "metadata": {},
   "outputs": [],
   "source": [
    "def robot_state_callback(msg: BaseCyclic_Feedback):\n",
    "    robot_state = msg\n",
    "    for s in BaseCyclic_Feedback.__slots__:\n",
    "        if s == \"frame_id\":\n",
    "            continue\n",
    "        if s == \"base\" or s == \"interconnect\":\n",
    "            if getattr(robot_state,s).fault_bank_a or getattr(robot_state,s).fault_bank_b:\n",
    "                print(\"robot error\")\n",
    "        else:\n",
    "            if any (actuator.fault_bank_a or actuator.fault_bank_b for actuator in getattr(robot_state,s)):\n",
    "                print(\"robot error\")\n"
   ]
  },
  {
   "cell_type": "code",
   "execution_count": 48,
   "metadata": {},
   "outputs": [
    {
     "data": {
      "text/plain": [
       "<rospy.topics.Subscriber at 0x7f778e9dfe50>"
      ]
     },
     "execution_count": 48,
     "metadata": {},
     "output_type": "execute_result"
    }
   ],
   "source": [
    "rospy.Subscriber('/kinova_gen3_lite/base_feedback', BaseCyclic_Feedback ,robot_state_callback, queue_size=1)\n",
    "\n",
    "    "
   ]
  },
  {
   "cell_type": "code",
   "execution_count": null,
   "metadata": {},
   "outputs": [],
   "source": []
  }
 ],
 "metadata": {
  "kernelspec": {
   "display_name": "ggcnn_env",
   "language": "python",
   "name": "python3"
  },
  "language_info": {
   "codemirror_mode": {
    "name": "ipython",
    "version": 3
   },
   "file_extension": ".py",
   "mimetype": "text/x-python",
   "name": "python",
   "nbconvert_exporter": "python",
   "pygments_lexer": "ipython3",
   "version": "3.8.10"
  }
 },
 "nbformat": 4,
 "nbformat_minor": 2
}
